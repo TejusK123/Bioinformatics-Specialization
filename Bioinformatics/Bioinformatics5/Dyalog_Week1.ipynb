{
 "cells": [
  {
   "cell_type": "code",
   "execution_count": null,
   "metadata": {
    "vscode": {
     "languageId": "apl"
    }
   },
   "outputs": [],
   "source": [
    "]LINK.Create bio \"DyalogLinks\\bio5w1\"\n",
    "]map"
   ]
  },
  {
   "cell_type": "code",
   "execution_count": null,
   "metadata": {
    "vscode": {
     "languageId": "apl"
    }
   },
   "outputs": [],
   "source": [
    "⍝ Code Challenge: Implement the FarthestFirstTraversal clustering heuristic.\n",
    "⍝      Input: Integers k and m followed by a set of points Data in m-dimensional space.\n",
    "⍝      Output: A set Centers consisting of k points (centers) resulting from applying FarthestFirstTraversal(Data, k),\n",
    "⍝      where the first point from Data is chosen as the first center to initialize the algorithm."
   ]
  },
  {
   "cell_type": "code",
   "execution_count": null,
   "metadata": {
    "vscode": {
     "languageId": "apl"
    }
   },
   "outputs": [],
   "source": [
    "⍝Function Definition within the Link\n",
    "⍝  R←A FarthestFirstTraveled B;Centers;Euclidean_Distance;first_iter;iter\n",
    "⍝  Euclidean_Distance←{*∘0.5+/⍺*∘2⍤-⍵}\n",
    "⍝  Centers←1⌷B\n",
    "⍝  first_iter←(=∘(⌈/)⍨Centers∘.Euclidean_Distance B)/B\n",
    "⍝  Centers←Centers,first_iter\n",
    "⍝  :While A≠≢Centers ⋄ iter←B/⍨=∘(⌈/)⍨⌊⌿B∘.Euclidean_Distance⍨Centers ⋄ Centers←Centers,iter ⋄ :EndWhile\n",
    "⍝  R←Centers"
   ]
  },
  {
   "cell_type": "code",
   "execution_count": null,
   "metadata": {
    "vscode": {
     "languageId": "apl"
    }
   },
   "outputs": [],
   "source": [
    "(k Data) ← bio.FormatData_1 'Downloads\\dataset_30181_2 (2).txt'"
   ]
  },
  {
   "cell_type": "code",
   "execution_count": null,
   "metadata": {
    "vscode": {
     "languageId": "apl"
    }
   },
   "outputs": [],
   "source": [
    "k bio.FarthestFirstTraveled Data"
   ]
  },
  {
   "cell_type": "code",
   "execution_count": null,
   "metadata": {
    "vscode": {
     "languageId": "apl"
    }
   },
   "outputs": [],
   "source": [
    "⍝ Squared Error Distortion Problem: Compute the squared error distortion of a set of data points with respect to a set of centers.\n",
    "\n",
    "⍝ Input: A set of points Data and a set of centers Centers.\n",
    "⍝ Output: The squared error distortion Distortion(Data, Centers).\n",
    "⍝ Code Challenge: Solve the Squared Error Distortion Problem.\n",
    "\n",
    "⍝ Input: Integers k and m, followed by a set of centers Centers and a set of points Data.\n",
    "⍝ Output: The squared error distortion Distortion(Data, Centers)."
   ]
  },
  {
   "cell_type": "code",
   "execution_count": null,
   "metadata": {
    "vscode": {
     "languageId": "apl"
    }
   },
   "outputs": [],
   "source": [
    "⍝Function Definition within the Link\n",
    "⍝ R←A SquaredErrorDistortion B;Euclidean_Distance\n",
    "\n",
    "\n",
    "⍝  Euclidean_Distance←{*∘0.5+/⍺*∘2⍤-⍵}\n",
    "⍝  R←(≢B)÷⍨+/2*⍨⌊⌿B∘.Euclidean_Distance⍨A\n"
   ]
  },
  {
   "cell_type": "code",
   "execution_count": null,
   "metadata": {
    "vscode": {
     "languageId": "apl"
    }
   },
   "outputs": [],
   "source": [
    "(Centers Data) ← bio.FormatData_2 'Downloads\\dataset_30170_3.txt'"
   ]
  },
  {
   "cell_type": "code",
   "execution_count": null,
   "metadata": {
    "vscode": {
     "languageId": "apl"
    }
   },
   "outputs": [],
   "source": [
    "Centers bio.SquaredErrorDistortion Data"
   ]
  },
  {
   "cell_type": "code",
   "execution_count": null,
   "metadata": {
    "vscode": {
     "languageId": "apl"
    }
   },
   "outputs": [],
   "source": [
    "⍝ Code Challenge: Implement the Lloyd algorithm for k-means clustering.\n",
    "\n",
    "⍝ Input: Integers k and m followed by a set of points Data in m-dimensional space.\n",
    "⍝ Output: A set Centers consisting of k points (centers) resulting from applying the Lloyd algorithm to Data and Centers, where the first k points from Data are selected as the first k centers.  You should report your answers to at least three decimal points."
   ]
  },
  {
   "cell_type": "code",
   "execution_count": null,
   "metadata": {
    "vscode": {
     "languageId": "apl"
    }
   },
   "outputs": [],
   "source": [
    "⍝ R←k LloydAlgo Data;Centers_Prev;Centers;mat;Euclidean_Distance;ChooseCenters\n",
    "⍝  Euclidean_Distance←{*∘0.5+/⍺*∘2⍤-⍵}\n",
    "⍝  ChooseCenters←{{/∘⍳∘≢⍨⍵}¨((=∘(⌊/)⍨)¨⊂[1]⍵)}\n",
    "⍝  Centers←k↑Data\n",
    "⍝  Centers_Prev←Centers\n",
    "⍝  mat←Centers∘.Euclidean_Distance Data\n",
    "⍝  Centers←{((+⌿)÷⊃∘⍴)↑⍵}¨{Data/⍨,↑(ChooseCenters mat)=⍵}¨⍳k\n",
    "⍝  :While Centers_Prev≢Centers\n",
    "⍝      Centers_Prev←Centers\n",
    "⍝      mat←Centers∘.Euclidean_Distance Data\n",
    "⍝      Centers←{((+⌿)÷⊃∘⍴)↑⍵}¨{Data/⍨,↑(ChooseCenters mat)=⍵}¨⍳k\n",
    "⍝  :EndWhile\n",
    "\n",
    "⍝  R←Centers"
   ]
  },
  {
   "cell_type": "code",
   "execution_count": null,
   "metadata": {
    "vscode": {
     "languageId": "apl"
    }
   },
   "outputs": [],
   "source": [
    "(k Data) ← bio.FormatData_1 'Downloads\\dataset_30171_3 (2).txt'"
   ]
  },
  {
   "cell_type": "code",
   "execution_count": null,
   "metadata": {
    "vscode": {
     "languageId": "apl"
    }
   },
   "outputs": [],
   "source": [
    "k bio.LloydAlgo Data"
   ]
  }
 ],
 "metadata": {
  "kernelspec": {
   "display_name": "Dyalog APL",
   "language": "apl",
   "name": "dyalog_apl"
  },
  "language_info": {
   "file_extension": ".apl",
   "mimetype": "text/apl",
   "name": "APL"
  }
 },
 "nbformat": 4,
 "nbformat_minor": 2
}
