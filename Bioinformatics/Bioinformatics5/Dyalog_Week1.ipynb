{
 "cells": [
  {
   "cell_type": "code",
   "execution_count": 1,
   "metadata": {
    "vscode": {
     "languageId": "apl"
    }
   },
   "outputs": [
    {
     "data": {
      "text/html": [
       "<pre class=\"language-APL\">Linked: #.bio ←→ C:\\Users\\tkoti\\Desktop\\apl_learning\\DyalogLinks\\bio5w1\n",
       "</pre>"
      ]
     },
     "execution_count": 1,
     "metadata": {},
     "output_type": "execute_result"
    },
    {
     "data": {
      "text/html": [
       "<pre class=\"language-APL\">#\n",
       "·   bio\n",
       "·   ·   ∇ FarthestFirstTraveled FormatData_1 FormatData_2 LloydAlgo SquaredErrorDistortion\n",
       "</pre>"
      ]
     },
     "execution_count": 1,
     "metadata": {},
     "output_type": "execute_result"
    }
   ],
   "source": [
    "]LINK.Create bio \"C:\\Users\\tkoti\\Desktop\\apl_learning\\DyalogLinks\\bio5w1\"\n",
    "]map"
   ]
  },
  {
   "cell_type": "code",
   "execution_count": 2,
   "metadata": {
    "vscode": {
     "languageId": "apl"
    }
   },
   "outputs": [],
   "source": [
    "⍝ Code Challenge: Implement the FarthestFirstTraversal clustering heuristic.\n",
    "⍝      Input: Integers k and m followed by a set of points Data in m-dimensional space.\n",
    "⍝      Output: A set Centers consisting of k points (centers) resulting from applying FarthestFirstTraversal(Data, k),\n",
    "⍝      where the first point from Data is chosen as the first center to initialize the algorithm."
   ]
  },
  {
   "cell_type": "code",
   "execution_count": 3,
   "metadata": {
    "vscode": {
     "languageId": "apl"
    }
   },
   "outputs": [],
   "source": [
    "⍝Function Definition within the Link\n",
    "⍝  R←A FarthestFirstTraveled B;Centers;Euclidean_Distance;first_iter;iter\n",
    "⍝  Euclidean_Distance←{*∘0.5+/⍺*∘2⍤-⍵}\n",
    "⍝  Centers←1⌷B\n",
    "⍝  first_iter←(=∘(⌈/)⍨Centers∘.Euclidean_Distance B)/B\n",
    "⍝  Centers←Centers,first_iter\n",
    "⍝  :While A≠≢Centers ⋄ iter←B/⍨=∘(⌈/)⍨⌊⌿B∘.Euclidean_Distance⍨Centers ⋄ Centers←Centers,iter ⋄ :EndWhile\n",
    "⍝  R←Centers"
   ]
  },
  {
   "cell_type": "code",
   "execution_count": 4,
   "metadata": {
    "vscode": {
     "languageId": "apl"
    }
   },
   "outputs": [],
   "source": [
    "(k Data) ← bio.FormatData_1 'C:\\Users\\tkoti\\Downloads\\dataset_30181_2 (2).txt'"
   ]
  },
  {
   "cell_type": "code",
   "execution_count": 5,
   "metadata": {
    "vscode": {
     "languageId": "apl"
    }
   },
   "outputs": [
    {
     "data": {
      "text/html": [
       "<pre class=\"language-APL\"> 4 4.6 2.7  5.1 25.8 28.9  35.6 6.2 11.7  19 32 4.2 \n",
       "</pre>"
      ]
     },
     "execution_count": 5,
     "metadata": {},
     "output_type": "execute_result"
    }
   ],
   "source": [
    "k bio.FarthestFirstTraveled Data"
   ]
  },
  {
   "cell_type": "code",
   "execution_count": 6,
   "metadata": {
    "vscode": {
     "languageId": "apl"
    }
   },
   "outputs": [],
   "source": [
    "⍝ Squared Error Distortion Problem: Compute the squared error distortion of a set of data points with respect to a set of centers.\n",
    "\n",
    "⍝ Input: A set of points Data and a set of centers Centers.\n",
    "⍝ Output: The squared error distortion Distortion(Data, Centers).\n",
    "⍝ Code Challenge: Solve the Squared Error Distortion Problem.\n",
    "\n",
    "⍝ Input: Integers k and m, followed by a set of centers Centers and a set of points Data.\n",
    "⍝ Output: The squared error distortion Distortion(Data, Centers)."
   ]
  },
  {
   "cell_type": "code",
   "execution_count": 7,
   "metadata": {
    "vscode": {
     "languageId": "apl"
    }
   },
   "outputs": [],
   "source": [
    "⍝Function Definition within the Link\n",
    "⍝ R←A SquaredErrorDistortion B;Euclidean_Distance\n",
    "\n",
    "\n",
    "⍝  Euclidean_Distance←{*∘0.5+/⍺*∘2⍤-⍵}\n",
    "⍝  R←(≢B)÷⍨+/2*⍨⌊⌿B∘.Euclidean_Distance⍨A\n"
   ]
  },
  {
   "cell_type": "code",
   "execution_count": 8,
   "metadata": {
    "vscode": {
     "languageId": "apl"
    }
   },
   "outputs": [],
   "source": [
    "(Centers Data) ← bio.FormatData_2 'C:\\Users\\tkoti\\Downloads\\dataset_30170_3.txt'"
   ]
  },
  {
   "cell_type": "code",
   "execution_count": 9,
   "metadata": {
    "vscode": {
     "languageId": "apl"
    }
   },
   "outputs": [
    {
     "data": {
      "text/html": [
       "<pre class=\"language-APL\">8.206145733\n",
       "</pre>"
      ]
     },
     "execution_count": 9,
     "metadata": {},
     "output_type": "execute_result"
    }
   ],
   "source": [
    "Centers bio.SquaredErrorDistortion Data"
   ]
  },
  {
   "cell_type": "code",
   "execution_count": 10,
   "metadata": {
    "vscode": {
     "languageId": "apl"
    }
   },
   "outputs": [],
   "source": [
    "⍝ Code Challenge: Implement the Lloyd algorithm for k-means clustering.\n",
    "\n",
    "⍝ Input: Integers k and m followed by a set of points Data in m-dimensional space.\n",
    "⍝ Output: A set Centers consisting of k points (centers) resulting from applying the Lloyd algorithm to Data and Centers, where the first k points from Data are selected as the first k centers.  You should report your answers to at least three decimal points."
   ]
  },
  {
   "cell_type": "code",
   "execution_count": 11,
   "metadata": {
    "vscode": {
     "languageId": "apl"
    }
   },
   "outputs": [],
   "source": [
    "(k Data) ← bio.FormatData_1 'C:\\Users\\tkoti\\Downloads\\dataset_30171_3 (2).txt'"
   ]
  },
  {
   "cell_type": "code",
   "execution_count": 12,
   "metadata": {
    "vscode": {
     "languageId": "apl"
    }
   },
   "outputs": [
    {
     "data": {
      "text/html": [
       "<pre class=\"language-APL\"> 18.49619565 7.59076087 6.468478261 7.236956522 7.294565217  6.383248731 18.02741117 8.124873096 6.106598985 6.585279188  7.669325153 6.294478528 18.58404908 6.629447853 7.394478528  6.953807107 6.33248731 7.147208122 6.739593909 17.62741117  5.694056848 5.048578811 5.437209302 4.837209302 5.226614987  6.5725 6.375 6.648 18.201 5.6855 \n",
       "</pre>"
      ]
     },
     "execution_count": 12,
     "metadata": {},
     "output_type": "execute_result"
    }
   ],
   "source": [
    "k bio.LloydAlgo Data"
   ]
  },
  {
   "cell_type": "code",
   "execution_count": null,
   "metadata": {
    "vscode": {
     "languageId": "apl"
    }
   },
   "outputs": [],
   "source": []
  }
 ],
 "metadata": {
  "kernelspec": {
   "display_name": "Dyalog APL",
   "language": "apl",
   "name": "dyalog_apl"
  },
  "language_info": {
   "file_extension": ".apl",
   "mimetype": "text/apl",
   "name": "APL"
  }
 },
 "nbformat": 4,
 "nbformat_minor": 2
}
