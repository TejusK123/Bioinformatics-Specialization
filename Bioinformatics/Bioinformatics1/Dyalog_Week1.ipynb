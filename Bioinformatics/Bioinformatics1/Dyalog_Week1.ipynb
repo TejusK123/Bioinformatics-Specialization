{
 "cells": [
  {
   "cell_type": "code",
   "execution_count": null,
   "metadata": {},
   "outputs": [],
   "source": [
    "\n",
    "\n",
    "⍝Code Challenge: Implement PatternCount (reproduced below).\n",
    "⍝Input: Strings Text and Pattern.\n",
    "⍝Output: Count(Text, Pattern).\n",
    "\n",
    "PatternCount ← {+/(⊂⍺)≡¨(⊂⍤⊢⌺(≢⍺)⊢⍵)}\n",
    "\n",
    "⍝Usage\n",
    "'ATC' PatternCount 'GATCCATCTT'\n",
    "\n",
    "\n"
   ]
  },
  {
   "cell_type": "code",
   "execution_count": null,
   "metadata": {},
   "outputs": [],
   "source": [
    "⍝Loading Data\n",
    "testinp ← ⊃⎕NGET '/dataset_30272_6.txt' 1\n",
    "pattern ← ⊃testinp[2]\n",
    "sequence ← ⊃testinp[1]\n",
    "\n",
    "\n",
    "pattern PatternCount sequence"
   ]
  },
  {
   "cell_type": "code",
   "execution_count": null,
   "metadata": {},
   "outputs": [],
   "source": [
    "⍝ Code Challenge: Solve the Frequent Words Problem.\n",
    "\n",
    "⍝ Input: A string Text and an integer k.\n",
    "⍝ Output: All most frequent k-mers in Text.\n",
    "\n",
    "\n",
    "test ← 'GATTCGCCAGACGTTGGTACCTCACACACAAACTTACGATTCGCCAGCCTCACACACGATTCGCCAGAAACTTACGATTCGCCAGGATTCGCCAGACGTTGGTAAAACTTACACGTTGGTAACGTTGGTATAAGAATAGCGATTCGCCAGGATTCGCCAGGATTCGCCAGCCTCACACACCCTCACACACGATTCGCCAGAAACTTACTAAGAATAGCTAAGAATAGCGATTCGCCAGAAACTTACACGTTGGTATAAGAATAGCCCTCACACACTAAGAATAGCACGTTGGTAACGTTGGTAACGTTGGTAAAACTTACGATTCGCCAGCCTCACACACACGTTGGTAACGTTGGTACCTCACACACACGTTGGTAGATTCGCCAGACGTTGGTAAAACTTACGATTCGCCAGACGTTGGTAGATTCGCCAGGATTCGCCAGTAAGAATAGCTAAGAATAGCCCTCACACACTAAGAATAGCACGTTGGTAGATTCGCCAGCCTCACACACGATTCGCCAGTAAGAATAGCAAACTTACTAAGAATAGCCCTCACACACCCTCACACACACGTTGGTAAAACTTACGATTCGCCAGACGTTGGTAAAACTTACGATTCGCCAGCCTCACACACCCTCACACACTAAGAATAGCGATTCGCCAGAAACTTACGATTCGCCAGTAAGAATAGCACGTTGGTATAAGAATAGCAAACTTACGATTCGCCAGGATTCGCCAGTAAGAATAGCAAACTTACACGTTGGTACCTCACACACGATTCGCCAGACGTTGGTAGATTCGCCAGTAAGAATAGCCCTCACACACGATTCGCCAGCCTCACACACAAACTTACCCTCACACACACGTTGGTATAAGAATAGCTAAGAATAGCTAAGAATAGCAAACTTACAAACTTACCCTCACACACACGTTGGTAGATTCGCCAGGATTCGCCAGCCTCACACAC'\n",
    "k ← 12\n",
    "\n",
    "(=∘(⌈/)⍨{⍵ PatternCount test} ¨(∪⊂⍤⊢⌺k⊢test)) / (∪⊂⍤⊢⌺k⊢test)"
   ]
  },
  {
   "cell_type": "code",
   "execution_count": null,
   "metadata": {},
   "outputs": [],
   "source": [
    "⍝ Reverse Complement Problem: Find the reverse complement of a DNA string.\n",
    "\n",
    "⍝ Input: A DNA string Pattern.\n",
    "⍝ Output: Patternrc , the reverse complement of Pattern.\n",
    "\n",
    "\n",
    "\n"
   ]
  },
  {
   "cell_type": "code",
   "execution_count": null,
   "metadata": {},
   "outputs": [],
   "source": [
    "⍝ Link Dictionary Functions \n",
    "\n",
    "]Link.Create dict /DyalogLinks/dict"
   ]
  },
  {
   "cell_type": "code",
   "execution_count": null,
   "metadata": {},
   "outputs": [],
   "source": [
    "⍝ Load the dictionary\n",
    "nucleotide_map ← 'ACGT' #.dict.Create 'TGCA'\n",
    "\n",
    "⍝ Define the reverse_complement function\n",
    "reverse_complement ← {⌽⍺ #.dict.Get ¨ ⍵}\n",
    "\n",
    "\n",
    "⍝Usage \n",
    "nucleotide_map reverse_complement 'AAAACCCGGT'\n",
    "\n",
    "\n",
    "revcomptest ← ⊃⎕NGET '\\dataset_30273_2.txt' \n",
    "\n",
    "nucleotide_map reverse_complement revcomptest"
   ]
  },
  {
   "cell_type": "code",
   "execution_count": null,
   "metadata": {},
   "outputs": [],
   "source": [
    "⍝ Code Challenge: Solve the Pattern Matching Problem.\n",
    "\n",
    "⍝ Input: Two strings, Pattern and Genome.\n",
    "⍝ Output: A collection of space-separated integers specifying all starting positions where Pattern appears as a substring of Genome.\n",
    "\n",
    "Pattern_Matching ← {1-⍨⍸⍺⍷⍵}\n",
    "\n",
    "⍝Usage\n",
    "\n",
    "'ATAT' Pattern_Matching 'GATATATGCATATACTT'\n"
   ]
  },
  {
   "cell_type": "code",
   "execution_count": null,
   "metadata": {},
   "outputs": [],
   "source": [
    "⍝ Code Challenge: Solve the Clump Finding Problem (restated below). You will need to make sure that your algorithm is efficient enough to handle a large dataset.\n",
    "\n",
    "⍝ Clump Finding Problem: Find patterns forming clumps in a string.\n",
    "\n",
    "⍝ Input: A string Genome, and integers k, L, and t.\n",
    "⍝ Output: All distinct k-mers forming (L, t)-clumps in Genome.\n",
    "\n",
    "⍝Janky AF need to manually change t within the Link .aplf function\n",
    "⍝Also slow af\n",
    "⍝Just use Python  \n",
    "\n",
    "\n",
    "⍝The Function within the Link File\n",
    "⍝--------------------------------------\n",
    "⍝  Clump_Finding←{\n",
    "⍝      k←⍺\n",
    "\n",
    "⍝      seqs←⍵\n",
    "\n",
    "⍝      PatternCount←{+/(⊂⍺)≡¨(⊂⍤⊢⌺(≢⍺)⊢⍵)}\n",
    "⍝      PatternCountAll←{⍵ PatternCount seqs}\n",
    "\n",
    "⍝      (4=PatternCountAll¨∪⊂⍤⊢⌺k⊢seqs)/(∪⊂⍤⊢⌺k⊢seqs) [Need to manually change t here]\n",
    "\n",
    "\n",
    "⍝  }\n",
    "⍝------------------------------------\n",
    "\n",
    "\n",
    "]LINK.Create bio \\DyalogLinks\\biow1\n",
    "\n",
    "\n"
   ]
  },
  {
   "cell_type": "code",
   "execution_count": null,
   "metadata": {},
   "outputs": [],
   "source": [
    "⍝Testcase\n",
    "windows←{(~(0∘⊥⌈⊃)¨' '=¨(⊂⍤⊢⌺⍺⊢⍵))/⊂⍤⊢⌺⍺⊢⍵}\n",
    "clump_test ← 'CGGACTCGACAGATGTGAAGAACGACAATGTGAAGACTCGACACGACAGAGTGAAGAGAAGAGGAAACATTGTAA'\n",
    "k ← 5\n",
    "L ← 50\n",
    "t ← 4\n",
    "\n",
    "' '(1↓∘∊,¨)((~(∧/¨)(↓' ')=(↓⍪∪↑↑5 #.bio.Clump_Finding ¨ (L windows clump_test)))/(↓⍪∪↑↑5 #.bio.Clump_Finding ¨ (L windows clump_test)))"
   ]
  }
 ],
 "metadata": {
  "kernelspec": {
   "display_name": "Dyalog APL",
   "language": "apl",
   "name": "dyalog_apl"
  },
  "language_info": {
   "file_extension": ".apl",
   "mimetype": "text/apl",
   "name": "apl"
  }
 },
 "nbformat": 4,
 "nbformat_minor": 2
}
